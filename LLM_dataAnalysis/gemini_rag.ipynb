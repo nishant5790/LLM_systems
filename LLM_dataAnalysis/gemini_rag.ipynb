{
 "cells": [
  {
   "cell_type": "code",
   "execution_count": 6,
   "id": "c64451c1-1038-468c-85fc-fc396c60b0af",
   "metadata": {},
   "outputs": [],
   "source": [
    "import sys"
   ]
  },
  {
   "cell_type": "code",
   "execution_count": 43,
   "id": "bc28b794-e917-483b-82a7-8896a638071b",
   "metadata": {
    "scrolled": true
   },
   "outputs": [],
   "source": [
    "# !{sys.executable} -m pip  install langchain_experimental langchain_core\n",
    "# !{sys.executable} -m pip  install google-generativeai==0.3.1\n",
    "# !{sys.executable} -m pip  install google-ai-generativelanguage==0.4.0\n",
    "# !{sys.executable} -m pip  install langchain-google-genai\n",
    "# !{sys.executable} -m pip  install \"langchain[docarray]\"\n",
    "# !{sys.executable} -m pip install -U docarray\n",
    "# !{sys.executable} -m pip install google-cloud-aiplatform[reasoningengine,langchain]\n",
    "# !{sys.executable} -m pip install -U langchain-google-vertexai"
   ]
  },
  {
   "cell_type": "code",
   "execution_count": 1,
   "id": "bac65c46-5d2e-450c-8555-3c6922184c94",
   "metadata": {},
   "outputs": [],
   "source": [
    "import vertexai\n",
    "from langchain_google_genai import ChatGoogleGenerativeAI\n",
    "from langchain_google_genai import GoogleGenerativeAIEmbeddings\n",
    "from langchain.vectorstores import DocArrayInMemorySearch\n",
    "from langchain.prompts import ChatPromptTemplate\n",
    "from langchain.schema.output_parser import StrOutputParser\n",
    "\n",
    "from vertexai.preview.generative_models import GenerativeModel, ChatSession \n",
    "from vertexai.generative_models import (\n",
    "    GenerationConfig,\n",
    "    GenerativeModel,\n",
    ")\n",
    "from langchain_google_vertexai import VertexAIEmbeddings\n",
    "from langchain_google_vertexai import VertexAI\n",
    "from langchain.schema.runnable import RunnableMap\n",
    "from langchain.utilities import GoogleSearchAPIWrapper\n",
    "import pprint\n",
    "\n",
    "project_id = \"project_id\"\n",
    "location = \"project_id\"\n",
    "vertexai.init(project=project_id, location=location)\n",
    "\n",
    "api_key = \"KEY\"\n",
    "cse_key = \"cXXXX\"\n",
    "cse_key_restricted = \"cXXX\"\n",
    "\n",
    "import pandas as pd"
   ]
  },
  {
   "cell_type": "code",
   "execution_count": 2,
   "id": "46c085e4-6abc-4b97-a6da-68d8c4c81c0f",
   "metadata": {
    "scrolled": true
   },
   "outputs": [
    {
     "name": "stderr",
     "output_type": "stream",
     "text": [
      "/home/ubuntu/setup_ray/.ray_env/lib/python3.10/site-packages/langchain_core/_api/deprecation.py:119: LangChainDeprecationWarning: The class `GoogleSearchAPIWrapper` was deprecated in LangChain 0.0.33 and will be removed in 0.3.0. An updated version of the class exists in the langchain-google-community package and should be used instead. To use it run `pip install -U langchain-google-community` and import as `from langchain_google_community import GoogleSearchAPIWrapper`.\n",
      "  warn_deprecated(\n"
     ]
    }
   ],
   "source": [
    "\n",
    "search = GoogleSearchAPIWrapper(google_api_key=api_key,google_cse_id=cse_key)\n",
    "search_restricted = GoogleSearchAPIWrapper(google_api_key=api_key,google_cse_id=cse_key_restricted, siterestrict=True)\n",
    "\n",
    "model  = GenerativeModel(\"gemini-1.0-pro\")\n",
    "\n",
    "llm_vertex = VertexAI(\n",
    "    model_name=\"gemini-1.0-pro\",\n",
    "    max_output_tokens=756,\n",
    "    temperature=0.1,\n",
    "    top_p=0.8,\n",
    "    top_k=40,\n",
    "    verbose=True,\n",
    ")\n",
    "\n",
    "\n",
    "\n",
    "template = \"\"\"Generate company description of company_name, based only on the following context and follow the given instruction:\n",
    "{context}\n",
    "\n",
    "Instruction : The description should contain information about when compnay started , what it does and what type of industry it is.\n",
    "also dont be baised about that if its a good or great .just be neutral and dont add any firmographic information\n",
    "\n",
    "Return you answer in short description of company \n",
    "\n",
    "company_name: {company_name}\n",
    "\"\"\"\n",
    "\n",
    "# template =  \"\"\"Answer the question a a full sentence, based only on the following context:\n",
    "# {context}\n",
    "\n",
    "# Return you answer in three back ticks\n",
    "\n",
    "# Question: {question}\"\"\"\n",
    "prompt = ChatPromptTemplate.from_template(template)\n",
    "output_parser = StrOutputParser()\n"
   ]
  },
  {
   "cell_type": "code",
   "execution_count": 4,
   "id": "c3dd6fa3-ab40-40af-abf8-1efc818f9bdd",
   "metadata": {},
   "outputs": [],
   "source": [
    "\n",
    "def extract_defination(comp_name):\n",
    "    \n",
    "    results = search.results(comp_name,num_results=10)\n",
    "    \n",
    "    embeddings = VertexAIEmbeddings(model_name=\"textembedding-gecko@003\")\n",
    "    \n",
    "    text_list = pd.DataFrame(results)['snippet'].to_list()\n",
    "    vectorstore = DocArrayInMemorySearch.from_texts(\n",
    "        # mini docs for embedding\n",
    "        text_list,\n",
    "        embedding=embeddings # passing in the embedder model\n",
    "    )\n",
    "    \n",
    "    retriever = vectorstore.as_retriever()\n",
    "\n",
    "\n",
    "    chain = RunnableMap({\n",
    "        \"context\": lambda x: retriever.get_relevant_documents(x[\"company_name\"]),\n",
    "        \"company_name\": lambda x: x[\"company_name\"]\n",
    "    }) | prompt | llm_vertex | output_parser\n",
    "    \n",
    "    defination= chain.invoke({\"company_name\": comp_name})\n",
    "\n",
    "    return defination"
   ]
  },
  {
   "cell_type": "code",
   "execution_count": 5,
   "id": "5b9989b4-4fb9-4db8-840e-355f7ffb7e66",
   "metadata": {},
   "outputs": [
    {
     "name": "stderr",
     "output_type": "stream",
     "text": [
      "/home/ubuntu/setup_ray/.ray_env/lib/python3.10/site-packages/pydantic/_migration.py:283: UserWarning: `pydantic.error_wrappers:ValidationError` has been moved to `pydantic:ValidationError`.\n",
      "  warnings.warn(f'`{import_path}` has been moved to `{new_location}`.')\n",
      "/home/ubuntu/setup_ray/.ray_env/lib/python3.10/site-packages/langchain_core/_api/deprecation.py:119: LangChainDeprecationWarning: The method `BaseRetriever.get_relevant_documents` was deprecated in langchain-core 0.1.46 and will be removed in 0.3.0. Use invoke instead.\n",
      "  warn_deprecated(\n"
     ]
    },
    {
     "data": {
      "text/plain": [
       "\"## Avaya LLC: \\n\\nAvaya LLC is an American multinational technology company headquartered in Morristown, New Jersey. The company provides a range of communication and collaboration solutions, including cloud-based and on-premises systems. Avaya was founded in 2000 through a merger of Lucent Technologies' Enterprise Networks division and Canada's Northern Telecom. \\n\\n**Industry:** Technology \\n\\n**Founded:** 2000 \\n\\n**Services:** Communication and collaboration solutions \\n\""
      ]
     },
     "execution_count": 5,
     "metadata": {},
     "output_type": "execute_result"
    }
   ],
   "source": [
    "extract_defination(comp_name='AvayaLLC')"
   ]
  },
  {
   "cell_type": "code",
   "execution_count": 7,
   "id": "63c78a7f-d1d9-48bf-a012-b53a7b15e3ae",
   "metadata": {},
   "outputs": [],
   "source": [
    "\n",
    "compnay_list = companies = ['Trane Inc.'\n",
    ",'Avaya LLC'\n",
    ",'Ceridian HCM Inc.'\n",
    ",'Keystone Automotive Industries, Inc.'\n",
    ",'Puget Sound Energy Inc'\n",
    ",'Sequa Corporation'\n",
    ",'JBS USA Holdings, Inc.'\n",
    ",'Capital Group Companies, Inc.'\n",
    ",'Battelle Memorial Institute Inc.'\n",
    ",\"Schwan's Company\"\n",
    ",'American Foods Group LLC'\n",
    ",'United Van Lines, LLC'\n",
    ",'Breakthru Beverage Group LLC'\n",
    ",'MetroGoldwynMayer Inc.']\n",
    "\n",
    "\n",
    "df_compnaydef = pd.DataFrame(compnay_list,columns=['compnay_names'])"
   ]
  },
  {
   "cell_type": "code",
   "execution_count": 8,
   "id": "bb7928bb-ba3d-4a02-9d8d-b03448503428",
   "metadata": {},
   "outputs": [],
   "source": [
    "df_compnaydef['defination'] = df_compnaydef['compnay_names'].apply(lambda x : extract_defination(x) )"
   ]
  },
  {
   "cell_type": "code",
   "execution_count": 9,
   "id": "07216616-ca87-40ab-94df-5971b8196fd2",
   "metadata": {},
   "outputs": [
    {
     "data": {
      "text/plain": [
       "array(['Puget Sound Energy Inc',\n",
       "       \"## Puget Sound Energy Inc.\\n\\nPuget Sound Energy (PSE) is an energy utility company based in Bellevue, Washington. Founded in 1886, PSE provides electricity and natural gas to over 1.1 million customers in the Puget Sound region of Washington state. As a regulated utility, PSE operates under the oversight of the Washington Utilities and Transportation Commission. \\n\\nThe company's core business is providing safe, reliable, and affordable energy to its customers. PSE also invests in renewable energy sources and energy efficiency programs to help reduce its environmental impact. \\n\"],\n",
       "      dtype=object)"
      ]
     },
     "execution_count": 9,
     "metadata": {},
     "output_type": "execute_result"
    }
   ],
   "source": [
    "df_compnaydef.values[4]"
   ]
  },
  {
   "cell_type": "code",
   "execution_count": 10,
   "id": "4f9ec9dd-cd41-4ebb-b114-feba7d435a77",
   "metadata": {},
   "outputs": [],
   "source": [
    "df_compnaydef.to_csv('compnay_description.csv',index=False)"
   ]
  }
 ],
 "metadata": {
  "kernelspec": {
   "display_name": "ray-venv",
   "language": "python",
   "name": "ray-venv"
  },
  "language_info": {
   "codemirror_mode": {
    "name": "ipython",
    "version": 3
   },
   "file_extension": ".py",
   "mimetype": "text/x-python",
   "name": "python",
   "nbconvert_exporter": "python",
   "pygments_lexer": "ipython3",
   "version": "3.10.9"
  },
  "widgets": {
   "application/vnd.jupyter.widget-state+json": {
    "state": {},
    "version_major": 2,
    "version_minor": 0
   }
  }
 },
 "nbformat": 4,
 "nbformat_minor": 5
}
